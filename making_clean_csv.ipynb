{
 "cells": [
  {
   "cell_type": "code",
   "execution_count": 4,
   "id": "d8e46edd-7ec8-40de-850e-53db56247296",
   "metadata": {},
   "outputs": [
    {
     "name": "stdout",
     "output_type": "stream",
     "text": [
      "✔ Exported:\n",
      "  • UNSW_NB15_training_cleaned.csv: 175341 rows × 43 cols\n",
      "  • UNSW_NB15_testing_cleaned.csv:  82332 rows × 43 cols\n"
     ]
    }
   ],
   "source": [
    "# === My new cell ===\n",
    "# Export cleaned train and test CSVs for later sampling\n",
    "\n",
    "import pandas as pd\n",
    "from pathlib import Path\n",
    "from sklearn.preprocessing import LabelEncoder\n",
    "\n",
    "# 1. Paths to raw CSVs\n",
    "data_dir  = Path(r\"C:\\Users\\Raghav Singla\\Desktop\\PBL-4\")\n",
    "train_fp  = data_dir / \"UNSW_NB15_training-set.csv\"\n",
    "test_fp   = data_dir / \"UNSW_NB15_testing-set.csv\"\n",
    "\n",
    "# 2. Load\n",
    "df_train = pd.read_csv(train_fp)\n",
    "df_test  = pd.read_csv(test_fp)\n",
    "\n",
    "# 3. Drop unneeded columns\n",
    "drop_cols = [\"id\", \"attack_cat\"]\n",
    "X_train = df_train.drop(columns=drop_cols + [\"label\"])\n",
    "y_train = df_train[\"label\"]\n",
    "X_test  = df_test.drop(columns=drop_cols + [\"label\"])\n",
    "y_test  = df_test[\"label\"]\n",
    "\n",
    "# 4. Label‐encode categorical features\n",
    "cat_cols = [\"proto\", \"service\", \"state\"]\n",
    "for col in cat_cols:\n",
    "    le = LabelEncoder()\n",
    "    combined = pd.concat([X_train[col], X_test[col]]).astype(str)\n",
    "    le.fit(combined)\n",
    "    X_train[col] = le.transform(X_train[col].astype(str))\n",
    "    X_test[col]  = le.transform(X_test[col].astype(str))\n",
    "\n",
    "# 5. Reattach labels\n",
    "clean_train = X_train.copy()\n",
    "clean_train[\"label\"] = y_train\n",
    "clean_test  = X_test.copy()\n",
    "clean_test[\"label\"]  = y_test\n",
    "\n",
    "# 6. Export to disk\n",
    "train_out = data_dir / \"UNSW_NB15_training_cleaned.csv\"\n",
    "test_out  = data_dir / \"UNSW_NB15_testing_cleaned.csv\"\n",
    "clean_train.to_csv(train_out, index=False)\n",
    "clean_test.to_csv(test_out, index=False)\n",
    "\n",
    "print(\"✔ Exported:\")\n",
    "print(f\"  • {train_out.name}: {clean_train.shape[0]} rows × {clean_train.shape[1]} cols\")\n",
    "print(f\"  • {test_out.name}:  {clean_test.shape[0]} rows × {clean_test.shape[1]} cols\")\n"
   ]
  },
  {
   "cell_type": "code",
   "execution_count": null,
   "id": "ab8c80cc-54e9-4f46-8eff-d462850c4a00",
   "metadata": {},
   "outputs": [],
   "source": []
  }
 ],
 "metadata": {
  "kernelspec": {
   "display_name": "Python 3 (ipykernel)",
   "language": "python",
   "name": "python3"
  },
  "language_info": {
   "codemirror_mode": {
    "name": "ipython",
    "version": 3
   },
   "file_extension": ".py",
   "mimetype": "text/x-python",
   "name": "python",
   "nbconvert_exporter": "python",
   "pygments_lexer": "ipython3",
   "version": "3.11.0"
  }
 },
 "nbformat": 4,
 "nbformat_minor": 5
}
