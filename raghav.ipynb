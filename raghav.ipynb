{
 "cells": [
  {
   "cell_type": "code",
   "execution_count": 5,
   "id": "f755d79a-2c30-4b30-98a7-3dc78fcc7da1",
   "metadata": {},
   "outputs": [
    {
     "name": "stdout",
     "output_type": "stream",
     "text": [
      "Train shape: (175341, 42)  Test shape: (82332, 42)\n",
      "Train label dist:\n",
      " label\n",
      "1    0.681\n",
      "0    0.319\n",
      "Name: proportion, dtype: float64\n",
      "Test  label dist:\n",
      " label\n",
      "1    0.551\n",
      "0    0.449\n",
      "Name: proportion, dtype: float64\n"
     ]
    }
   ],
   "source": [
    "# === My new cell ===\n",
    "import pandas as pd\n",
    "from pathlib import Path\n",
    "from sklearn.preprocessing import LabelEncoder\n",
    "\n",
    "# 1. Paths\n",
    "data_dir  = Path(r\"C:\\Users\\Raghav Singla\\Desktop\\PBL-4\")\n",
    "train_fp  = data_dir / \"UNSW_NB15_training-set.csv\"\n",
    "test_fp   = data_dir / \"UNSW_NB15_testing-set.csv\"\n",
    "\n",
    "# 2. Load\n",
    "df_train = pd.read_csv(train_fp)\n",
    "df_test  = pd.read_csv(test_fp)\n",
    "\n",
    "# 3. Separate features/target, drop unneeded cols\n",
    "drop_cols = [\"id\", \"attack_cat\"]\n",
    "X_train   = df_train.drop(columns=drop_cols + [\"label\"])\n",
    "y_train   = df_train[\"label\"]\n",
    "X_test    = df_test.drop(columns=drop_cols + [\"label\"])\n",
    "y_test    = df_test[\"label\"]\n",
    "\n",
    "# 4. Encode categoricals\n",
    "cat_cols = [\"proto\", \"service\", \"state\"]\n",
    "for col in cat_cols:\n",
    "    le = LabelEncoder()\n",
    "    # fit on train + test to avoid unseen labels\n",
    "    combined = pd.concat([X_train[col], X_test[col]]).astype(str)\n",
    "    le.fit(combined)\n",
    "    X_train[col] = le.transform(X_train[col].astype(str))\n",
    "    X_test[col]  = le.transform(X_test[col].astype(str))\n",
    "\n",
    "# 5. Ensure all others numeric, fill NaN with train‐set medians\n",
    "X_train = X_train.apply(pd.to_numeric, errors=\"coerce\")\n",
    "X_test  = X_test.apply(pd.to_numeric,  errors=\"coerce\")\n",
    "medians = X_train.median()\n",
    "X_train.fillna(medians, inplace=True)\n",
    "X_test.fillna(medians,  inplace=True)\n",
    "\n",
    "# 6. Quick sanity checks\n",
    "print(\"Train shape:\", X_train.shape, \" Test shape:\", X_test.shape)\n",
    "print(\"Train label dist:\\n\", y_train.value_counts(normalize=True).round(3))\n",
    "print(\"Test  label dist:\\n\", y_test.value_counts(normalize=True).round(3))\n"
   ]
  },
  {
   "cell_type": "code",
   "execution_count": 6,
   "id": "072b6614-e06f-47c5-b1d9-14d4aabd5445",
   "metadata": {},
   "outputs": [
    {
     "name": "stdout",
     "output_type": "stream",
     "text": [
      "✅ RandomForest trained on 175341 samples.\n"
     ]
    }
   ],
   "source": [
    "# === My new cell ===\n",
    "from sklearn.ensemble import RandomForestClassifier\n",
    "\n",
    "# Instantiate and train\n",
    "rf = RandomForestClassifier(\n",
    "    n_estimators=100,\n",
    "    class_weight=\"balanced\",\n",
    "    random_state=42,\n",
    "    n_jobs=-1\n",
    ")\n",
    "rf.fit(X_train, y_train)\n",
    "\n",
    "print(\"✅ RandomForest trained on\", X_train.shape[0], \"samples.\")\n"
   ]
  },
  {
   "cell_type": "code",
   "execution_count": 7,
   "id": "0ed15945-bb1d-4212-b7ae-d7de059bf5c0",
   "metadata": {},
   "outputs": [
    {
     "name": "stdout",
     "output_type": "stream",
     "text": [
      "              precision    recall  f1-score   support\n",
      "\n",
      "           0     0.9803    0.7325    0.8385     37000\n",
      "           1     0.8190    0.9880    0.8956     45332\n",
      "\n",
      "    accuracy                         0.8732     82332\n",
      "   macro avg     0.8997    0.8602    0.8670     82332\n",
      "weighted avg     0.8915    0.8732    0.8699     82332\n",
      "\n"
     ]
    },
    {
     "data": {
      "image/png": "[encoded data removed]",
      "text/plain": [
       "<Figure size 600x500 with 2 Axes>"
      ]
     },
     "metadata": {},
     "output_type": "display_data"
    },
    {
     "name": "stdout",
     "output_type": "stream",
     "text": [
      "✔ Model persisted to ids_model.joblib\n"
     ]
    }
   ],
   "source": [
    "# === My new cell ===\n",
    "from sklearn.metrics import classification_report, confusion_matrix\n",
    "import seaborn as sns\n",
    "import matplotlib.pyplot as plt\n",
    "import joblib\n",
    "\n",
    "# Inference\n",
    "y_pred = rf.predict(X_test)\n",
    "\n",
    "# 1. Detailed metrics\n",
    "print(classification_report(y_test, y_pred, digits=4))\n",
    "\n",
    "# 2. Confusion matrix visualization\n",
    "cm = confusion_matrix(y_test, y_pred)\n",
    "plt.figure(figsize=(6,5))\n",
    "sns.heatmap(cm, annot=True, fmt=\"d\", cmap=\"Blues\")\n",
    "plt.title(\"Confusion Matrix: RandomForest\")\n",
    "plt.xlabel(\"Predicted\")\n",
    "plt.ylabel(\"Actual\")\n",
    "plt.show()\n",
    "\n",
    "# 3. Save model\n",
    "joblib.dump(rf, \"ids_model.joblib\")\n",
    "print(\"✔ Model persisted to ids_model.joblib\")\n"
   ]
  },
  {
   "cell_type": "code",
   "execution_count": null,
   "id": "0eddb933-d52c-49a5-ae79-d5bf650c3182",
   "metadata": {},
   "outputs": [
    {
     "name": "stdout",
     "output_type": "stream",
     "text": [
      "\n",
      "=== RandomForest ===\n",
      "              precision    recall  f1-score   support\n",
      "\n",
      "           0     0.9803    0.7325    0.8385     37000\n",
      "           1     0.8190    0.9880    0.8956     45332\n",
      "\n",
      "    accuracy                         0.8732     82332\n",
      "   macro avg     0.8997    0.8602    0.8670     82332\n",
      "weighted avg     0.8915    0.8732    0.8699     82332\n",
      "\n",
      "\n",
      "=== KNN ===\n",
      "              precision    recall  f1-score   support\n",
      "\n",
      "           0     0.8946    0.5981    0.7169     37000\n",
      "           1     0.7418    0.9425    0.8302     45332\n",
      "\n",
      "    accuracy                         0.7877     82332\n",
      "   macro avg     0.8182    0.7703    0.7736     82332\n",
      "weighted avg     0.8105    0.7877    0.7793     82332\n",
      "\n"
     ]
    }
   ],
   "source": [
    "# === My new cell ===\n",
    "# 4. Compare RF vs KNN vs SVM vs LogisticRegression\n",
    "from sklearn.neighbors import KNeighborsClassifier\n",
    "from sklearn.svm import SVC\n",
    "from sklearn.linear_model import LogisticRegression\n",
    "from sklearn.metrics import classification_report\n",
    "\n",
    "models = {\n",
    "    \"RandomForest\": rf,  # your already‐trained RF\n",
    "    \"KNN\": KNeighborsClassifier(n_neighbors=5, n_jobs=-1),\n",
    "    \"SVM\": SVC(kernel=\"rbf\", C=1.0, probability=True, random_state=42),\n",
    "    \"LogisticRegression\": LogisticRegression(\n",
    "        max_iter=1000, class_weight=\"balanced\", random_state=42\n",
    "    ),\n",
    "}\n",
    "\n",
    "for name, model in models.items():\n",
    "    # retrain non-RF models\n",
    "    if name != \"RandomForest\":\n",
    "        model.fit(X_train, y_train)\n",
    "    y_pred = model.predict(X_test)\n",
    "    print(f\"\\n=== {name} ===\")\n",
    "    print(classification_report(y_test, y_pred, digits=4))\n"
   ]
  },
  {
   "cell_type": "code",
   "execution_count": null,
   "id": "0b420427-25bd-492b-a2a4-54bcb9380c71",
   "metadata": {},
   "outputs": [],
   "source": [
    "# === My new cell ===\n",
    "from sklearn.model_selection import StratifiedKFold, cross_val_score\n",
    "import numpy as np\n",
    "\n",
    "cv = StratifiedKFold(n_splits=5, shuffle=True, random_state=42)\n",
    "scoring = [\"accuracy\", \"f1\", \"roc_auc\"]\n",
    "\n",
    "for name, model in models.items():\n",
    "    scores = {metric: cross_val_score(model, X_train, y_train, cv=cv,\n",
    "                                      scoring=metric, n_jobs=-1)\n",
    "              for metric in scoring}\n",
    "    print(f\"\\n=== {name} CV Results ===\")\n",
    "    for metric, vals in scores.items():\n",
    "        print(f\"{metric:>9}: {np.mean(vals):.4f} ± {np.std(vals):.4f}\")\n"
   ]
  },
  {
   "cell_type": "code",
   "execution_count": null,
   "id": "ab7774eb-e1ed-41dd-811c-ff25bbc9f64e",
   "metadata": {},
   "outputs": [],
   "source": [
    "# === My new cell ===\n",
    "from sklearn.metrics import roc_curve, auc\n",
    "import matplotlib.pyplot as plt\n",
    "\n",
    "plt.figure(figsize=(8,6))\n",
    "for name, model in models.items():\n",
    "    # ensure probability predictions\n",
    "    y_score = model.predict_proba(X_test)[:,1]\n",
    "    fpr, tpr, _ = roc_curve(y_test, y_score)\n",
    "    roc_auc = auc(fpr, tpr)\n",
    "    plt.plot(fpr, tpr, lw=2, label=f\"{name} (AUC = {roc_auc:.3f})\")\n",
    "\n",
    "plt.plot([0,1],[0,1], color='gray', linestyle='--')\n",
    "plt.xlim([0,1]); plt.ylim([0,1])\n",
    "plt.xlabel(\"False Positive Rate\"); plt.ylabel(\"True Positive Rate\")\n",
    "plt.title(\"ROC Curves Comparison\")\n",
    "plt.legend(loc=\"lower right\")\n",
    "plt.show()\n"
   ]
  },
  {
   "cell_type": "code",
   "execution_count": null,
   "id": "f9aeb9ee-d978-461b-bc89-1be282b3451a",
   "metadata": {},
   "outputs": [],
   "source": [
    "# === My new cell ===\n",
    "import pandas as pd\n",
    "import seaborn as sns\n",
    "import matplotlib.pyplot as plt\n",
    "\n",
    "# get importances\n",
    "feat_imp = pd.Series(rf.feature_importances_, index=X_train.columns)\n",
    "top15 = feat_imp.sort_values(ascending=False).head(15)\n",
    "\n",
    "plt.figure(figsize=(6,8))\n",
    "sns.barplot(x=top15.values, y=top15.index)\n",
    "plt.title(\"Top 15 Feature Importances (RandomForest)\")\n",
    "plt.xlabel(\"Importance\"); plt.tight_layout()\n",
    "plt.show()\n"
   ]
  },
  {
   "cell_type": "code",
   "execution_count": null,
   "id": "82f4c38a-0c06-4e14-989e-fb65fd8d647b",
   "metadata": {},
   "outputs": [],
   "source": [
    "# === My new cell ===\n",
    "from sklearn.model_selection import RandomizedSearchCV\n",
    "\n",
    "param_dist = {\n",
    "    \"n_estimators\": [100, 200, 500],\n",
    "    \"max_depth\": [None, 10, 20, 50],\n",
    "    \"min_samples_split\": [2, 5, 10]\n",
    "}\n",
    "rs = RandomizedSearchCV(\n",
    "    RandomForestClassifier(class_weight=\"balanced\", random_state=42),\n",
    "    param_distributions=param_dist,\n",
    "    n_iter=10,\n",
    "    scoring=\"f1\",\n",
    "    cv=3,\n",
    "    n_jobs=-1,\n",
    "    random_state=42\n",
    ")\n",
    "rs.fit(X_train, y_train)\n",
    "print(\"Best params:\", rs.best_params_)\n",
    "print(\"Best CV F1:\", rs.best_score_.round(4))\n",
    "\n",
    "# Re-evaluate on test set\n",
    "best_rf = rs.best_estimator_\n",
    "y_pred_best = best_rf.predict(X_test)\n",
    "print(classification_report(y_test, y_pred_best, digits=4))\n"
   ]
  },
  {
   "cell_type": "code",
   "execution_count": null,
   "id": "6fc2ac0d-1f56-481f-922d-717341640492",
   "metadata": {},
   "outputs": [],
   "source": [
    "# === My new cell ===\n",
    "from sklearn.decomposition import PCA\n",
    "import matplotlib.pyplot as plt\n",
    "\n",
    "pca = PCA(n_components=2, random_state=42)\n",
    "Xp = pca.fit_transform(X_test)\n",
    "\n",
    "plt.figure(figsize=(7,6))\n",
    "plt.scatter(Xp[y_test==0,0], Xp[y_test==0,1], alpha=0.3, label=\"Normal\")\n",
    "plt.scatter(Xp[y_test==1,0], Xp[y_test==1,1], alpha=0.3, label=\"Attack\")\n",
    "plt.xlabel(\"PC1\"); plt.ylabel(\"PC2\")\n",
    "plt.title(\"PCA of Test Set Features\")\n",
    "plt.legend(); plt.tight_layout()\n",
    "plt.show()\n"
   ]
  },
  {
   "cell_type": "code",
   "execution_count": null,
   "id": "34d366c8-3f3b-4a2f-a1f2-d7b802e2e7d1",
   "metadata": {},
   "outputs": [],
   "source": []
  }
 ],
 "metadata": {
  "kernelspec": {
   "display_name": "Python 3 (ipykernel)",
   "language": "python",
   "name": "python3"
  },
  "language_info": {
   "codemirror_mode": {
    "name": "ipython",
    "version": 3
   },
   "file_extension": ".py",
   "mimetype": "text/x-python",
   "name": "python",
   "nbconvert_exporter": "python",
   "pygments_lexer": "ipython3",
   "version": "3.11.0"
  }
 },
 "nbformat": 4,
 "nbformat_minor": 5
}
